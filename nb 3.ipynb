{
 "cells": [
  {
   "cell_type": "code",
   "execution_count": 1,
   "id": "3a2069c3",
   "metadata": {},
   "outputs": [],
   "source": [
    "#import packages\n",
    "import pandas as pd\n",
    "import numpy as np\n",
    "from sklearn.model_selection import train_test_split\n",
    "from sklearn.feature_extraction.text import CountVectorizer\n",
    "from sklearn.naive_bayes import MultinomialNB\n",
    "from sklearn.metrics import accuracy_score, precision_score, recall_score, f1_score\n",
    "from sklearn.metrics import confusion_matrix\n",
    "\n",
    "import nltk\n",
    "from nltk.corpus import stopwords\n",
    "from nltk.stem.porter import PorterStemmer\n",
    "from nltk.stem import SnowballStemmer\n",
    "import re\n"
   ]
  },
  {
   "cell_type": "code",
   "execution_count": 2,
   "id": "cc59cdf2",
   "metadata": {},
   "outputs": [
    {
     "data": {
      "text/html": [
       "<div>\n",
       "<style scoped>\n",
       "    .dataframe tbody tr th:only-of-type {\n",
       "        vertical-align: middle;\n",
       "    }\n",
       "\n",
       "    .dataframe tbody tr th {\n",
       "        vertical-align: top;\n",
       "    }\n",
       "\n",
       "    .dataframe thead th {\n",
       "        text-align: right;\n",
       "    }\n",
       "</style>\n",
       "<table border=\"1\" class=\"dataframe\">\n",
       "  <thead>\n",
       "    <tr style=\"text-align: right;\">\n",
       "      <th></th>\n",
       "      <th>Category</th>\n",
       "      <th>Message</th>\n",
       "    </tr>\n",
       "  </thead>\n",
       "  <tbody>\n",
       "    <tr>\n",
       "      <th>0</th>\n",
       "      <td>ham</td>\n",
       "      <td>Go until jurong point, crazy.. Available only ...</td>\n",
       "    </tr>\n",
       "    <tr>\n",
       "      <th>1</th>\n",
       "      <td>ham</td>\n",
       "      <td>Ok lar... Joking wif u oni...</td>\n",
       "    </tr>\n",
       "    <tr>\n",
       "      <th>2</th>\n",
       "      <td>spam</td>\n",
       "      <td>Free entry in 2 a wkly comp to win FA Cup fina...</td>\n",
       "    </tr>\n",
       "    <tr>\n",
       "      <th>3</th>\n",
       "      <td>ham</td>\n",
       "      <td>U dun say so early hor... U c already then say...</td>\n",
       "    </tr>\n",
       "    <tr>\n",
       "      <th>4</th>\n",
       "      <td>ham</td>\n",
       "      <td>Nah I don't think he goes to usf, he lives aro...</td>\n",
       "    </tr>\n",
       "    <tr>\n",
       "      <th>...</th>\n",
       "      <td>...</td>\n",
       "      <td>...</td>\n",
       "    </tr>\n",
       "    <tr>\n",
       "      <th>5567</th>\n",
       "      <td>spam</td>\n",
       "      <td>This is the 2nd time we have tried 2 contact u...</td>\n",
       "    </tr>\n",
       "    <tr>\n",
       "      <th>5568</th>\n",
       "      <td>ham</td>\n",
       "      <td>Will ü b going to esplanade fr home?</td>\n",
       "    </tr>\n",
       "    <tr>\n",
       "      <th>5569</th>\n",
       "      <td>ham</td>\n",
       "      <td>Pity, * was in mood for that. So...any other s...</td>\n",
       "    </tr>\n",
       "    <tr>\n",
       "      <th>5570</th>\n",
       "      <td>ham</td>\n",
       "      <td>The guy did some bitching but I acted like i'd...</td>\n",
       "    </tr>\n",
       "    <tr>\n",
       "      <th>5571</th>\n",
       "      <td>ham</td>\n",
       "      <td>Rofl. Its true to its name</td>\n",
       "    </tr>\n",
       "  </tbody>\n",
       "</table>\n",
       "<p>5572 rows × 2 columns</p>\n",
       "</div>"
      ],
      "text/plain": [
       "     Category                                            Message\n",
       "0         ham  Go until jurong point, crazy.. Available only ...\n",
       "1         ham                      Ok lar... Joking wif u oni...\n",
       "2        spam  Free entry in 2 a wkly comp to win FA Cup fina...\n",
       "3         ham  U dun say so early hor... U c already then say...\n",
       "4         ham  Nah I don't think he goes to usf, he lives aro...\n",
       "...       ...                                                ...\n",
       "5567     spam  This is the 2nd time we have tried 2 contact u...\n",
       "5568      ham               Will ü b going to esplanade fr home?\n",
       "5569      ham  Pity, * was in mood for that. So...any other s...\n",
       "5570      ham  The guy did some bitching but I acted like i'd...\n",
       "5571      ham                         Rofl. Its true to its name\n",
       "\n",
       "[5572 rows x 2 columns]"
      ]
     },
     "execution_count": 2,
     "metadata": {},
     "output_type": "execute_result"
    }
   ],
   "source": [
    "#import data\n",
    "spam_df = pd.read_csv(\"D:\\\\Datasets\\\\spam.csv\")\n",
    "spam_df"
   ]
  },
  {
   "cell_type": "code",
   "execution_count": 3,
   "id": "9d4181da",
   "metadata": {},
   "outputs": [
    {
     "data": {
      "text/html": [
       "<div>\n",
       "<style scoped>\n",
       "    .dataframe tbody tr th:only-of-type {\n",
       "        vertical-align: middle;\n",
       "    }\n",
       "\n",
       "    .dataframe tbody tr th {\n",
       "        vertical-align: top;\n",
       "    }\n",
       "\n",
       "    .dataframe thead tr th {\n",
       "        text-align: left;\n",
       "    }\n",
       "\n",
       "    .dataframe thead tr:last-of-type th {\n",
       "        text-align: right;\n",
       "    }\n",
       "</style>\n",
       "<table border=\"1\" class=\"dataframe\">\n",
       "  <thead>\n",
       "    <tr>\n",
       "      <th></th>\n",
       "      <th colspan=\"4\" halign=\"left\">Message</th>\n",
       "    </tr>\n",
       "    <tr>\n",
       "      <th></th>\n",
       "      <th>count</th>\n",
       "      <th>unique</th>\n",
       "      <th>top</th>\n",
       "      <th>freq</th>\n",
       "    </tr>\n",
       "    <tr>\n",
       "      <th>Category</th>\n",
       "      <th></th>\n",
       "      <th></th>\n",
       "      <th></th>\n",
       "      <th></th>\n",
       "    </tr>\n",
       "  </thead>\n",
       "  <tbody>\n",
       "    <tr>\n",
       "      <th>ham</th>\n",
       "      <td>4825</td>\n",
       "      <td>4516</td>\n",
       "      <td>Sorry, I'll call later</td>\n",
       "      <td>30</td>\n",
       "    </tr>\n",
       "    <tr>\n",
       "      <th>spam</th>\n",
       "      <td>747</td>\n",
       "      <td>641</td>\n",
       "      <td>Please call our customer service representativ...</td>\n",
       "      <td>4</td>\n",
       "    </tr>\n",
       "  </tbody>\n",
       "</table>\n",
       "</div>"
      ],
      "text/plain": [
       "         Message                                                            \\\n",
       "           count unique                                                top   \n",
       "Category                                                                     \n",
       "ham         4825   4516                             Sorry, I'll call later   \n",
       "spam         747    641  Please call our customer service representativ...   \n",
       "\n",
       "               \n",
       "         freq  \n",
       "Category       \n",
       "ham        30  \n",
       "spam        4  "
      ]
     },
     "execution_count": 3,
     "metadata": {},
     "output_type": "execute_result"
    }
   ],
   "source": [
    "#inspact data\n",
    "spam_df.groupby(\"Category\").describe()"
   ]
  },
  {
   "cell_type": "code",
   "execution_count": 4,
   "id": "ae016eb9",
   "metadata": {},
   "outputs": [],
   "source": [
    "#turning spam/ham into numerical data, creating new column called 'spam'\n",
    "spam_df['spam'] = spam_df['Category'].apply(lambda x: 1 if x == 'spam'else 0)\n",
    "#x=spam_df.Message\n",
    "y=spam_df.spam\n"
   ]
  },
  {
   "cell_type": "code",
   "execution_count": 5,
   "id": "7a1682ef",
   "metadata": {},
   "outputs": [
    {
     "data": {
      "text/html": [
       "<div>\n",
       "<style scoped>\n",
       "    .dataframe tbody tr th:only-of-type {\n",
       "        vertical-align: middle;\n",
       "    }\n",
       "\n",
       "    .dataframe tbody tr th {\n",
       "        vertical-align: top;\n",
       "    }\n",
       "\n",
       "    .dataframe thead th {\n",
       "        text-align: right;\n",
       "    }\n",
       "</style>\n",
       "<table border=\"1\" class=\"dataframe\">\n",
       "  <thead>\n",
       "    <tr style=\"text-align: right;\">\n",
       "      <th></th>\n",
       "      <th>Category</th>\n",
       "      <th>Message</th>\n",
       "      <th>spam</th>\n",
       "    </tr>\n",
       "  </thead>\n",
       "  <tbody>\n",
       "    <tr>\n",
       "      <th>0</th>\n",
       "      <td>ham</td>\n",
       "      <td>Go until jurong point, crazy.. Available only ...</td>\n",
       "      <td>0</td>\n",
       "    </tr>\n",
       "    <tr>\n",
       "      <th>1</th>\n",
       "      <td>ham</td>\n",
       "      <td>Ok lar... Joking wif u oni...</td>\n",
       "      <td>0</td>\n",
       "    </tr>\n",
       "    <tr>\n",
       "      <th>2</th>\n",
       "      <td>spam</td>\n",
       "      <td>Free entry in 2 a wkly comp to win FA Cup fina...</td>\n",
       "      <td>1</td>\n",
       "    </tr>\n",
       "    <tr>\n",
       "      <th>3</th>\n",
       "      <td>ham</td>\n",
       "      <td>U dun say so early hor... U c already then say...</td>\n",
       "      <td>0</td>\n",
       "    </tr>\n",
       "    <tr>\n",
       "      <th>4</th>\n",
       "      <td>ham</td>\n",
       "      <td>Nah I don't think he goes to usf, he lives aro...</td>\n",
       "      <td>0</td>\n",
       "    </tr>\n",
       "    <tr>\n",
       "      <th>...</th>\n",
       "      <td>...</td>\n",
       "      <td>...</td>\n",
       "      <td>...</td>\n",
       "    </tr>\n",
       "    <tr>\n",
       "      <th>5567</th>\n",
       "      <td>spam</td>\n",
       "      <td>This is the 2nd time we have tried 2 contact u...</td>\n",
       "      <td>1</td>\n",
       "    </tr>\n",
       "    <tr>\n",
       "      <th>5568</th>\n",
       "      <td>ham</td>\n",
       "      <td>Will ü b going to esplanade fr home?</td>\n",
       "      <td>0</td>\n",
       "    </tr>\n",
       "    <tr>\n",
       "      <th>5569</th>\n",
       "      <td>ham</td>\n",
       "      <td>Pity, * was in mood for that. So...any other s...</td>\n",
       "      <td>0</td>\n",
       "    </tr>\n",
       "    <tr>\n",
       "      <th>5570</th>\n",
       "      <td>ham</td>\n",
       "      <td>The guy did some bitching but I acted like i'd...</td>\n",
       "      <td>0</td>\n",
       "    </tr>\n",
       "    <tr>\n",
       "      <th>5571</th>\n",
       "      <td>ham</td>\n",
       "      <td>Rofl. Its true to its name</td>\n",
       "      <td>0</td>\n",
       "    </tr>\n",
       "  </tbody>\n",
       "</table>\n",
       "<p>5572 rows × 3 columns</p>\n",
       "</div>"
      ],
      "text/plain": [
       "     Category                                            Message  spam\n",
       "0         ham  Go until jurong point, crazy.. Available only ...     0\n",
       "1         ham                      Ok lar... Joking wif u oni...     0\n",
       "2        spam  Free entry in 2 a wkly comp to win FA Cup fina...     1\n",
       "3         ham  U dun say so early hor... U c already then say...     0\n",
       "4         ham  Nah I don't think he goes to usf, he lives aro...     0\n",
       "...       ...                                                ...   ...\n",
       "5567     spam  This is the 2nd time we have tried 2 contact u...     1\n",
       "5568      ham               Will ü b going to esplanade fr home?     0\n",
       "5569      ham  Pity, * was in mood for that. So...any other s...     0\n",
       "5570      ham  The guy did some bitching but I acted like i'd...     0\n",
       "5571      ham                         Rofl. Its true to its name     0\n",
       "\n",
       "[5572 rows x 3 columns]"
      ]
     },
     "execution_count": 5,
     "metadata": {},
     "output_type": "execute_result"
    }
   ],
   "source": [
    "spam_df"
   ]
  },
  {
   "cell_type": "code",
   "execution_count": 6,
   "id": "585797dc",
   "metadata": {},
   "outputs": [],
   "source": [
    "ps = PorterStemmer()\n",
    "def clean_text(text):\n",
    "    # Remove any unwanted characters\n",
    "    text = re.sub(r\"[^A-Za-z0-9]\", \" \", text)\n",
    "    # Convert to lowercase\n",
    "    text = text.lower()\n",
    "    # Remove stopwords and stem the words\n",
    "    words = [ps.stem(word) for word in text.split() if word not in stopwords.words(\"english\")]\n",
    "    return \" \".join(words)\n",
    "\n",
    "# Apply the clean_text function to the text column of the DataFrame\n",
    "spam_df[\"Message\"] = spam_df[\"Message\"].apply(clean_text)"
   ]
  },
  {
   "cell_type": "code",
   "execution_count": 42,
   "id": "4281f9a6",
   "metadata": {},
   "outputs": [
    {
     "data": {
      "text/html": [
       "<div>\n",
       "<style scoped>\n",
       "    .dataframe tbody tr th:only-of-type {\n",
       "        vertical-align: middle;\n",
       "    }\n",
       "\n",
       "    .dataframe tbody tr th {\n",
       "        vertical-align: top;\n",
       "    }\n",
       "\n",
       "    .dataframe thead th {\n",
       "        text-align: right;\n",
       "    }\n",
       "</style>\n",
       "<table border=\"1\" class=\"dataframe\">\n",
       "  <thead>\n",
       "    <tr style=\"text-align: right;\">\n",
       "      <th></th>\n",
       "      <th>Category</th>\n",
       "      <th>Message</th>\n",
       "      <th>spam</th>\n",
       "    </tr>\n",
       "  </thead>\n",
       "  <tbody>\n",
       "    <tr>\n",
       "      <th>0</th>\n",
       "      <td>ham</td>\n",
       "      <td>go jurong point crazi avail bugi n great world...</td>\n",
       "      <td>0</td>\n",
       "    </tr>\n",
       "    <tr>\n",
       "      <th>1</th>\n",
       "      <td>ham</td>\n",
       "      <td>ok lar joke wif u oni</td>\n",
       "      <td>0</td>\n",
       "    </tr>\n",
       "    <tr>\n",
       "      <th>2</th>\n",
       "      <td>spam</td>\n",
       "      <td>free entri 2 wkli comp win fa cup final tkt 21...</td>\n",
       "      <td>1</td>\n",
       "    </tr>\n",
       "    <tr>\n",
       "      <th>3</th>\n",
       "      <td>ham</td>\n",
       "      <td>u dun say earli hor u c alreadi say</td>\n",
       "      <td>0</td>\n",
       "    </tr>\n",
       "    <tr>\n",
       "      <th>4</th>\n",
       "      <td>ham</td>\n",
       "      <td>nah think goe usf live around though</td>\n",
       "      <td>0</td>\n",
       "    </tr>\n",
       "    <tr>\n",
       "      <th>...</th>\n",
       "      <td>...</td>\n",
       "      <td>...</td>\n",
       "      <td>...</td>\n",
       "    </tr>\n",
       "    <tr>\n",
       "      <th>5567</th>\n",
       "      <td>spam</td>\n",
       "      <td>2nd time tri 2 contact u u 750 pound prize 2 c...</td>\n",
       "      <td>1</td>\n",
       "    </tr>\n",
       "    <tr>\n",
       "      <th>5568</th>\n",
       "      <td>ham</td>\n",
       "      <td>b go esplanad fr home</td>\n",
       "      <td>0</td>\n",
       "    </tr>\n",
       "    <tr>\n",
       "      <th>5569</th>\n",
       "      <td>ham</td>\n",
       "      <td>piti mood suggest</td>\n",
       "      <td>0</td>\n",
       "    </tr>\n",
       "    <tr>\n",
       "      <th>5570</th>\n",
       "      <td>ham</td>\n",
       "      <td>guy bitch act like interest buy someth els nex...</td>\n",
       "      <td>0</td>\n",
       "    </tr>\n",
       "    <tr>\n",
       "      <th>5571</th>\n",
       "      <td>ham</td>\n",
       "      <td>rofl true name</td>\n",
       "      <td>0</td>\n",
       "    </tr>\n",
       "  </tbody>\n",
       "</table>\n",
       "<p>5572 rows × 3 columns</p>\n",
       "</div>"
      ],
      "text/plain": [
       "     Category                                            Message  spam\n",
       "0         ham  go jurong point crazi avail bugi n great world...     0\n",
       "1         ham                              ok lar joke wif u oni     0\n",
       "2        spam  free entri 2 wkli comp win fa cup final tkt 21...     1\n",
       "3         ham                u dun say earli hor u c alreadi say     0\n",
       "4         ham               nah think goe usf live around though     0\n",
       "...       ...                                                ...   ...\n",
       "5567     spam  2nd time tri 2 contact u u 750 pound prize 2 c...     1\n",
       "5568      ham                              b go esplanad fr home     0\n",
       "5569      ham                                  piti mood suggest     0\n",
       "5570      ham  guy bitch act like interest buy someth els nex...     0\n",
       "5571      ham                                     rofl true name     0\n",
       "\n",
       "[5572 rows x 3 columns]"
      ]
     },
     "execution_count": 42,
     "metadata": {},
     "output_type": "execute_result"
    }
   ],
   "source": [
    "x=spam_df.Message\n",
    "spam_df"
   ]
  },
  {
   "cell_type": "code",
   "execution_count": 8,
   "id": "8513c6e1",
   "metadata": {},
   "outputs": [],
   "source": [
    "#find the word count and store data as a matrix\n",
    "cv = CountVectorizer()\n",
    "x_count = cv.fit_transform(x) "
   ]
  },
  {
   "cell_type": "code",
   "execution_count": 9,
   "id": "b12a48c1",
   "metadata": {},
   "outputs": [],
   "source": [
    "#create train/test split\n",
    "x_train_1 ,x_test_1 , y_train , y_test = train_test_split(x_count, y,test_size=0.3,random_state=42)"
   ]
  },
  {
   "cell_type": "code",
   "execution_count": 10,
   "id": "52a7aba9",
   "metadata": {},
   "outputs": [
    {
     "data": {
      "text/plain": [
       "MultinomialNB()"
      ]
     },
     "execution_count": 10,
     "metadata": {},
     "output_type": "execute_result"
    }
   ],
   "source": [
    "#train model \n",
    "model1_m = MultinomialNB()\n",
    "model1_m.fit(x_train_1,y_train)"
   ]
  },
  {
   "cell_type": "code",
   "execution_count": 11,
   "id": "984fc584",
   "metadata": {},
   "outputs": [
    {
     "data": {
      "text/plain": [
       "GaussianNB()"
      ]
     },
     "execution_count": 11,
     "metadata": {},
     "output_type": "execute_result"
    }
   ],
   "source": [
    "from sklearn.naive_bayes import GaussianNB\n",
    "X_gs = x_count.toarray()\n",
    "x_train_1_G, x_test_1_G, y_train, y_test = train_test_split(X_gs, y, test_size=0.3,random_state=42)\n",
    "model1_G = GaussianNB()\n",
    "model1_G.fit(x_train_1_G,y_train)"
   ]
  },
  {
   "cell_type": "code",
   "execution_count": 12,
   "id": "7ca8bb09",
   "metadata": {},
   "outputs": [
    {
     "data": {
      "text/plain": [
       "BernoulliNB()"
      ]
     },
     "execution_count": 12,
     "metadata": {},
     "output_type": "execute_result"
    }
   ],
   "source": [
    "from sklearn.naive_bayes import BernoulliNB\n",
    "\n",
    "model1_B = BernoulliNB()\n",
    "model1_B.fit(x_train_1,y_train)"
   ]
  },
  {
   "cell_type": "code",
   "execution_count": 13,
   "id": "77bf1e61",
   "metadata": {},
   "outputs": [
    {
     "name": "stdout",
     "output_type": "stream",
     "text": [
      "MultinomialNB :Accuracy: 0.9826555023923444, Precision: 0.922077922077922, Recall: 0.9508928571428571, F1-score: 0.9362637362637363\n"
     ]
    },
    {
     "data": {
      "text/plain": [
       "array([[1430,   18],\n",
       "       [  11,  213]], dtype=int64)"
      ]
     },
     "execution_count": 13,
     "metadata": {},
     "output_type": "execute_result"
    }
   ],
   "source": [
    "from sklearn.metrics import confusion_matrix\n",
    "y_pred_m= model1_m.predict(x_test_1)\n",
    "accuracy = accuracy_score(y_test, y_pred_m)\n",
    "precision = precision_score(y_test, y_pred_m)\n",
    "recall = recall_score(y_test, y_pred_m)\n",
    "f1 = f1_score(y_test, y_pred_m)\n",
    "print(f\"MultinomialNB :Accuracy: {accuracy}, Precision: {precision}, Recall: {recall}, F1-score: {f1}\")\n",
    "confusion_matrics = confusion_matrix(y_test,y_pred_m)\n",
    "confusion_matrics"
   ]
  },
  {
   "cell_type": "code",
   "execution_count": 14,
   "id": "103c4443",
   "metadata": {},
   "outputs": [
    {
     "name": "stdout",
     "output_type": "stream",
     "text": [
      "GaussianNB :Accuracy: 0.8755980861244019, Precision: 0.520618556701031, Recall: 0.9017857142857143, F1-score: 0.6601307189542485\n"
     ]
    },
    {
     "data": {
      "text/plain": [
       "array([[1262,  186],\n",
       "       [  22,  202]], dtype=int64)"
      ]
     },
     "execution_count": 14,
     "metadata": {},
     "output_type": "execute_result"
    }
   ],
   "source": [
    "\n",
    "y_pred_G= model1_G.predict(x_test_1_G)\n",
    "accuracy = accuracy_score(y_test, y_pred_G)\n",
    "precision = precision_score(y_test, y_pred_G)\n",
    "recall = recall_score(y_test, y_pred_G)\n",
    "f1 = f1_score(y_test, y_pred_G)\n",
    "print(f\"GaussianNB :Accuracy: {accuracy}, Precision: {precision}, Recall: {recall}, F1-score: {f1}\")\n",
    "confusion_matrics = confusion_matrix(y_test,y_pred_G)\n",
    "confusion_matrics"
   ]
  },
  {
   "cell_type": "code",
   "execution_count": 15,
   "id": "a81afaee",
   "metadata": {},
   "outputs": [
    {
     "name": "stdout",
     "output_type": "stream",
     "text": [
      "BernoulliNB :Accuracy: 0.9754784688995215, Precision: 0.9692307692307692, Recall: 0.84375, F1-score: 0.9021479713603818\n"
     ]
    },
    {
     "data": {
      "text/plain": [
       "array([[1442,    6],\n",
       "       [  35,  189]], dtype=int64)"
      ]
     },
     "execution_count": 15,
     "metadata": {},
     "output_type": "execute_result"
    }
   ],
   "source": [
    "y_pred_B= model1_B.predict(x_test_1)\n",
    "accuracy = accuracy_score(y_test, y_pred_B)\n",
    "precision = precision_score(y_test, y_pred_B)\n",
    "recall = recall_score(y_test, y_pred_B)\n",
    "f1 = f1_score(y_test, y_pred_B)\n",
    "print(f\"BernoulliNB :Accuracy: {accuracy}, Precision: {precision}, Recall: {recall}, F1-score: {f1}\")\n",
    "confusion_matrics = confusion_matrix(y_test,y_pred_B)\n",
    "confusion_matrics"
   ]
  },
  {
   "cell_type": "markdown",
   "id": "00ab0510",
   "metadata": {},
   "source": [
    "_____________________________________________________"
   ]
  },
  {
   "cell_type": "code",
   "execution_count": 81,
   "id": "7dc90b7d",
   "metadata": {},
   "outputs": [],
   "source": [
    "from sklearn.feature_extraction.text import TfidfTransformer\n",
    "tf_transformer = TfidfTransformer(use_idf=True)\n",
    "x_tf = tf_transformer.fit_transform(x_count)\n",
    "\n",
    "# from sklearn.feature_extraction.text import TfidfVectorizer\n",
    "# tfidf_c = TfidfVectorizer()\n",
    "# x_tf = tfidf_c.fit_transform(x)"
   ]
  },
  {
   "cell_type": "code",
   "execution_count": 82,
   "id": "7a5d2793",
   "metadata": {},
   "outputs": [],
   "source": [
    "x_train2 ,x_test2 , y_train , y_test = train_test_split(x_tf, y,test_size=0.3,random_state=42)"
   ]
  },
  {
   "cell_type": "code",
   "execution_count": 83,
   "id": "42543cc0",
   "metadata": {},
   "outputs": [
    {
     "data": {
      "text/plain": [
       "MultinomialNB()"
      ]
     },
     "execution_count": 83,
     "metadata": {},
     "output_type": "execute_result"
    }
   ],
   "source": [
    "#train model \n",
    "model2_m = MultinomialNB()\n",
    "model2_m.fit(x_train2,y_train)"
   ]
  },
  {
   "cell_type": "code",
   "execution_count": 84,
   "id": "985b6470",
   "metadata": {},
   "outputs": [
    {
     "data": {
      "text/plain": [
       "GaussianNB()"
      ]
     },
     "execution_count": 84,
     "metadata": {},
     "output_type": "execute_result"
    }
   ],
   "source": [
    "X_tf_gs = x_tf.toarray()\n",
    "x_train_2_G, x_test_2_G, y_train, y_test = train_test_split(X_tf_gs, y, test_size=0.3,random_state=42)\n",
    "model2_G = GaussianNB()\n",
    "model2_G.fit(x_train_2_G,y_train)"
   ]
  },
  {
   "cell_type": "code",
   "execution_count": 85,
   "id": "caa49da3",
   "metadata": {},
   "outputs": [
    {
     "data": {
      "text/plain": [
       "BernoulliNB()"
      ]
     },
     "execution_count": 85,
     "metadata": {},
     "output_type": "execute_result"
    }
   ],
   "source": [
    "model2_B = BernoulliNB()\n",
    "model2_B.fit(x_train2,y_train)"
   ]
  },
  {
   "cell_type": "markdown",
   "id": "0e376e38",
   "metadata": {},
   "source": [
    "### results :"
   ]
  },
  {
   "cell_type": "code",
   "execution_count": 86,
   "id": "9100e276",
   "metadata": {},
   "outputs": [
    {
     "name": "stdout",
     "output_type": "stream",
     "text": [
      "MultinomialNB :Accuracy: 0.9677033492822966, Precision: 1.0, Recall: 0.7589285714285714, F1-score: 0.8629441624365483\n"
     ]
    },
    {
     "data": {
      "text/plain": [
       "array([[1448,    0],\n",
       "       [  54,  170]], dtype=int64)"
      ]
     },
     "execution_count": 86,
     "metadata": {},
     "output_type": "execute_result"
    }
   ],
   "source": [
    "y_pred_m= model2_m.predict(x_test2)\n",
    "accuracy = accuracy_score(y_test, y_pred_m)\n",
    "precision = precision_score(y_test, y_pred_m)\n",
    "recall = recall_score(y_test, y_pred_m)\n",
    "f1 = f1_score(y_test, y_pred_m)\n",
    "print(f\"MultinomialNB :Accuracy: {accuracy}, Precision: {precision}, Recall: {recall}, F1-score: {f1}\")\n",
    "confusion_matrics = confusion_matrix(y_test,y_pred_m)\n",
    "confusion_matrics"
   ]
  },
  {
   "cell_type": "code",
   "execution_count": 87,
   "id": "803a65a0",
   "metadata": {},
   "outputs": [
    {
     "name": "stdout",
     "output_type": "stream",
     "text": [
      "GaussianNB :Accuracy: 0.8755980861244019, Precision: 0.5210526315789473, Recall: 0.8839285714285714, F1-score: 0.6556291390728477\n"
     ]
    },
    {
     "data": {
      "text/plain": [
       "array([[1266,  182],\n",
       "       [  26,  198]], dtype=int64)"
      ]
     },
     "execution_count": 87,
     "metadata": {},
     "output_type": "execute_result"
    }
   ],
   "source": [
    "y_pred_G= model2_G.predict(x_test_2_G)\n",
    "accuracy = accuracy_score(y_test, y_pred_G)\n",
    "precision = precision_score(y_test, y_pred_G)\n",
    "recall = recall_score(y_test, y_pred_G)\n",
    "f1 = f1_score(y_test, y_pred_G)\n",
    "print(f\"GaussianNB :Accuracy: {accuracy}, Precision: {precision}, Recall: {recall}, F1-score: {f1}\")\n",
    "confusion_matrics = confusion_matrix(y_test,y_pred_G)\n",
    "confusion_matrics"
   ]
  },
  {
   "cell_type": "code",
   "execution_count": 66,
   "id": "07b90e21",
   "metadata": {},
   "outputs": [
    {
     "name": "stdout",
     "output_type": "stream",
     "text": [
      "BernoulliNB :Accuracy: 0.9754784688995215, Precision: 0.9692307692307692, Recall: 0.84375, F1-score: 0.9021479713603818\n"
     ]
    },
    {
     "data": {
      "text/plain": [
       "array([[1442,    6],\n",
       "       [  35,  189]], dtype=int64)"
      ]
     },
     "execution_count": 66,
     "metadata": {},
     "output_type": "execute_result"
    }
   ],
   "source": [
    "y_pred_B= model2_B.predict(x_test2)\n",
    "accuracy = accuracy_score(y_test, y_pred_B)\n",
    "precision = precision_score(y_test, y_pred_B)\n",
    "recall = recall_score(y_test, y_pred_B)\n",
    "f1 = f1_score(y_test, y_pred_B)\n",
    "print(f\"BernoulliNB :Accuracy: {accuracy}, Precision: {precision}, Recall: {recall}, F1-score: {f1}\")\n",
    "confusion_matrics = confusion_matrix(y_test,y_pred_B)\n",
    "confusion_matrics"
   ]
  },
  {
   "cell_type": "markdown",
   "id": "3ffe8ec9",
   "metadata": {},
   "source": [
    "____________________________________________"
   ]
  },
  {
   "cell_type": "code",
   "execution_count": 92,
   "id": "1c40e2c3",
   "metadata": {},
   "outputs": [
    {
     "name": "stdout",
     "output_type": "stream",
     "text": [
      "  (0, 1037)\t1\n",
      "  (0, 1224)\t1\n",
      "  (0, 1603)\t1\n",
      "  (0, 1605)\t1\n",
      "  (0, 1839)\t1\n",
      "  (0, 2049)\t1\n",
      "  (0, 3052)\t1\n",
      "  (0, 3092)\t1\n",
      "  (0, 3130)\t1\n",
      "  (0, 3721)\t1\n",
      "  (0, 3830)\t1\n",
      "  (0, 5028)\t1\n",
      "  (0, 6918)\t1\n",
      "  (0, 7095)\t1\n",
      "  (1, 3688)\t1\n",
      "  (1, 3861)\t1\n",
      "  (1, 4683)\t1\n",
      "  (1, 4708)\t1\n",
      "  (1, 7017)\t1\n",
      "  (2, 77)\t1\n",
      "  (2, 400)\t1\n",
      "  (2, 409)\t1\n",
      "  (2, 787)\t1\n",
      "  (2, 1109)\t1\n",
      "  (2, 1936)\t1\n",
      "  :\t:\n",
      "  (5567, 6461)\t1\n",
      "  (5567, 6586)\t1\n",
      "  (5568, 2585)\t1\n",
      "  (5568, 2874)\t1\n",
      "  (5568, 3052)\t1\n",
      "  (5568, 3346)\t1\n",
      "  (5569, 4356)\t1\n",
      "  (5569, 4970)\t1\n",
      "  (5569, 6172)\t1\n",
      "  (5570, 897)\t1\n",
      "  (5570, 1429)\t1\n",
      "  (5570, 1631)\t1\n",
      "  (5570, 2510)\t1\n",
      "  (5570, 2885)\t1\n",
      "  (5570, 2979)\t1\n",
      "  (5570, 3174)\t1\n",
      "  (5570, 3561)\t1\n",
      "  (5570, 3942)\t1\n",
      "  (5570, 4532)\t1\n",
      "  (5570, 5920)\t1\n",
      "  (5570, 6754)\t1\n",
      "  (5570, 6953)\t1\n",
      "  (5571, 4452)\t1\n",
      "  (5571, 5472)\t1\n",
      "  (5571, 6599)\t1\n"
     ]
    }
   ],
   "source": [
    "# cv2 = CountVectorizer(binary=True)\n",
    "# x_count2 = cv.fit_transform(x)\n",
    "x_count2 = (x_count > 0).astype(int)\n",
    "x_train3, x_test3, y_train, y_test = train_test_split(x_count2, y, test_size=0.3, random_state=42)\n",
    "print(x_count2)"
   ]
  },
  {
   "cell_type": "code",
   "execution_count": 53,
   "id": "f631d267",
   "metadata": {},
   "outputs": [
    {
     "data": {
      "text/plain": [
       "MultinomialNB()"
      ]
     },
     "execution_count": 53,
     "metadata": {},
     "output_type": "execute_result"
    }
   ],
   "source": [
    "model3_m = MultinomialNB()\n",
    "model3_m.fit(x_train3,y_train)"
   ]
  },
  {
   "cell_type": "code",
   "execution_count": 54,
   "id": "ef7d434b",
   "metadata": {},
   "outputs": [
    {
     "data": {
      "text/plain": [
       "GaussianNB()"
      ]
     },
     "execution_count": 54,
     "metadata": {},
     "output_type": "execute_result"
    }
   ],
   "source": [
    "x_count2_g = x_count2.toarray()\n",
    "x_train_3_G, x_test_3_G, y_train, y_test = train_test_split(x_count2_g, y, test_size=0.3,random_state=42)\n",
    "model3_G = GaussianNB()\n",
    "model3_G.fit(x_train_3_G,y_train)"
   ]
  },
  {
   "cell_type": "code",
   "execution_count": 55,
   "id": "6edd6ae7",
   "metadata": {},
   "outputs": [
    {
     "data": {
      "text/plain": [
       "BernoulliNB()"
      ]
     },
     "execution_count": 55,
     "metadata": {},
     "output_type": "execute_result"
    }
   ],
   "source": [
    "model3_B = BernoulliNB()\n",
    "model3_B.fit(x_train3,y_train)"
   ]
  },
  {
   "cell_type": "markdown",
   "id": "f7533453",
   "metadata": {},
   "source": [
    "### Results:"
   ]
  },
  {
   "cell_type": "code",
   "execution_count": 56,
   "id": "d3ae6f89",
   "metadata": {},
   "outputs": [
    {
     "name": "stdout",
     "output_type": "stream",
     "text": [
      "MultinomialNB :Accuracy: 0.9814593301435407, Precision: 0.9213973799126638, Recall: 0.9419642857142857, F1-score: 0.9315673289183223\n"
     ]
    },
    {
     "data": {
      "text/plain": [
       "array([[1430,   18],\n",
       "       [  13,  211]], dtype=int64)"
      ]
     },
     "execution_count": 56,
     "metadata": {},
     "output_type": "execute_result"
    }
   ],
   "source": [
    "y_pred_m= model3_m.predict(x_test3)\n",
    "accuracy = accuracy_score(y_test, y_pred_m)\n",
    "precision = precision_score(y_test, y_pred_m)\n",
    "recall = recall_score(y_test, y_pred_m)\n",
    "f1 = f1_score(y_test, y_pred_m)\n",
    "print(f\"MultinomialNB :Accuracy: {accuracy}, Precision: {precision}, Recall: {recall}, F1-score: {f1}\")\n",
    "confusion_matrics = confusion_matrix(y_test,y_pred_m)\n",
    "confusion_matrics"
   ]
  },
  {
   "cell_type": "code",
   "execution_count": 57,
   "id": "e0390a91",
   "metadata": {},
   "outputs": [
    {
     "name": "stdout",
     "output_type": "stream",
     "text": [
      "GaussianNB :Accuracy: 0.8767942583732058, Precision: 0.5231958762886598, Recall: 0.90625, F1-score: 0.6633986928104576\n"
     ]
    },
    {
     "data": {
      "text/plain": [
       "array([[1263,  185],\n",
       "       [  21,  203]], dtype=int64)"
      ]
     },
     "execution_count": 57,
     "metadata": {},
     "output_type": "execute_result"
    }
   ],
   "source": [
    "y_pred_G= model3_G.predict(x_test_3_G)\n",
    "accuracy = accuracy_score(y_test, y_pred_G)\n",
    "precision = precision_score(y_test, y_pred_G)\n",
    "recall = recall_score(y_test, y_pred_G)\n",
    "f1 = f1_score(y_test, y_pred_G)\n",
    "print(f\"GaussianNB :Accuracy: {accuracy}, Precision: {precision}, Recall: {recall}, F1-score: {f1}\")\n",
    "confusion_matrics = confusion_matrix(y_test,y_pred_G)\n",
    "confusion_matrics"
   ]
  },
  {
   "cell_type": "code",
   "execution_count": 58,
   "id": "f9fb7945",
   "metadata": {},
   "outputs": [
    {
     "name": "stdout",
     "output_type": "stream",
     "text": [
      "BernoulliNB :Accuracy: 0.9754784688995215, Precision: 0.9692307692307692, Recall: 0.84375, F1-score: 0.9021479713603818\n"
     ]
    },
    {
     "data": {
      "text/plain": [
       "array([[1442,    6],\n",
       "       [  35,  189]], dtype=int64)"
      ]
     },
     "execution_count": 58,
     "metadata": {},
     "output_type": "execute_result"
    }
   ],
   "source": [
    "y_pred_B= model3_B.predict(x_test3)\n",
    "accuracy = accuracy_score(y_test, y_pred_B)\n",
    "precision = precision_score(y_test, y_pred_B)\n",
    "recall = recall_score(y_test, y_pred_B)\n",
    "f1 = f1_score(y_test, y_pred_B)\n",
    "print(f\"BernoulliNB :Accuracy: {accuracy}, Precision: {precision}, Recall: {recall}, F1-score: {f1}\")\n",
    "confusion_matrics = confusion_matrix(y_test,y_pred_B)\n",
    "confusion_matrics"
   ]
  },
  {
   "cell_type": "code",
   "execution_count": null,
   "id": "8f47d8df",
   "metadata": {},
   "outputs": [],
   "source": []
  }
 ],
 "metadata": {
  "kernelspec": {
   "display_name": "Python 3 (ipykernel)",
   "language": "python",
   "name": "python3"
  },
  "language_info": {
   "codemirror_mode": {
    "name": "ipython",
    "version": 3
   },
   "file_extension": ".py",
   "mimetype": "text/x-python",
   "name": "python",
   "nbconvert_exporter": "python",
   "pygments_lexer": "ipython3",
   "version": "3.9.12"
  }
 },
 "nbformat": 4,
 "nbformat_minor": 5
}
