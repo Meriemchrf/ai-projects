{
 "cells": [
  {
   "cell_type": "code",
   "execution_count": 95,
   "id": "d3c7d1d5",
   "metadata": {},
   "outputs": [
    {
     "name": "stdout",
     "output_type": "stream",
     "text": [
      "768\n",
      "<class 'pandas.core.frame.DataFrame'>\n",
      "RangeIndex: 768 entries, 0 to 767\n",
      "Data columns (total 9 columns):\n",
      " #   Column                    Non-Null Count  Dtype  \n",
      "---  ------                    --------------  -----  \n",
      " 0   Pregnancies               768 non-null    int64  \n",
      " 1   Glucose                   768 non-null    int64  \n",
      " 2   BloodPressure             768 non-null    int64  \n",
      " 3   SkinThickness             768 non-null    int64  \n",
      " 4   Insulin                   768 non-null    int64  \n",
      " 5   BMI                       768 non-null    float64\n",
      " 6   DiabetesPedigreeFunction  768 non-null    float64\n",
      " 7   Age                       768 non-null    int64  \n",
      " 8   Outcome                   768 non-null    int64  \n",
      "dtypes: float64(2), int64(7)\n",
      "memory usage: 54.1 KB\n",
      "     Pregnancies  Glucose  BloodPressure  SkinThickness  Insulin   BMI  \\\n",
      "0              6      148             72             35        0  33.6   \n",
      "1              1       85             66             29        0  26.6   \n",
      "2              8      183             64              0        0  23.3   \n",
      "3              1       89             66             23       94  28.1   \n",
      "4              0      137             40             35      168  43.1   \n",
      "..           ...      ...            ...            ...      ...   ...   \n",
      "763           10      101             76             48      180  32.9   \n",
      "764            2      122             70             27        0  36.8   \n",
      "765            5      121             72             23      112  26.2   \n",
      "766            1      126             60              0        0  30.1   \n",
      "767            1       93             70             31        0  30.4   \n",
      "\n",
      "     DiabetesPedigreeFunction  Age  Outcome  \n",
      "0                       0.627   50        1  \n",
      "1                       0.351   31        0  \n",
      "2                       0.672   32        1  \n",
      "3                       0.167   21        0  \n",
      "4                       2.288   33        1  \n",
      "..                        ...  ...      ...  \n",
      "763                     0.171   63        0  \n",
      "764                     0.340   27        0  \n",
      "765                     0.245   30        0  \n",
      "766                     0.349   47        1  \n",
      "767                     0.315   23        0  \n",
      "\n",
      "[768 rows x 9 columns]\n"
     ]
    }
   ],
   "source": [
    "import pandas as pd\n",
    "\n",
    "\n",
    "dataset = pd.read_csv('diabetes.csv')\n",
    "print(len(dataset))\n",
    "#%%\n",
    "dataset.info()\n",
    "\n",
    "\n",
    "\n",
    "#%%\n",
    "print(dataset)\n",
    "\n",
    "\n",
    "           \n"
   ]
  },
  {
   "cell_type": "code",
   "execution_count": 96,
   "id": "ef6a8e6a",
   "metadata": {},
   "outputs": [
    {
     "name": "stdout",
     "output_type": "stream",
     "text": [
      "[[  6.    148.     72.    ...   0.627  50.      1.   ]\n",
      " [  1.     85.     66.    ...   0.351  31.      0.   ]\n",
      " [  8.    183.     64.    ...   0.672  32.      1.   ]\n",
      " ...\n",
      " [  5.    121.     72.    ...   0.245  30.      0.   ]\n",
      " [  1.    126.     60.    ...   0.349  47.      1.   ]\n",
      " [  1.     93.     70.    ...   0.315  23.      0.   ]]\n"
     ]
    }
   ],
   "source": [
    "\n",
    "# ####################################################################\n",
    "# #%%\n",
    "ms=dataset.to_numpy() \n",
    "print (ms)            \n",
    "# #%%\n",
    "# def split_ds(np_dataset,train_size):\n",
    "#     xtrain =np_dataset[:int(train_size*len(dataset)),:-1]\n",
    "#     ytrain =np_dataset[:int(train_size*len(dataset)),-1:]\n",
    "#     xtest =np_dataset[int(train_size*len(dataset)):,:-1]\n",
    "#     ytest =np_dataset[int(train_size*len(dataset)):,-1:]\n",
    "#     return xtrain,ytrain,xtest,ytest      \n"
   ]
  },
  {
   "cell_type": "code",
   "execution_count": 97,
   "id": "c64770ee",
   "metadata": {},
   "outputs": [],
   "source": [
    "#split dataset\n",
    "from sklearn.model_selection import train_test_split\n",
    "x = dataset.iloc[:,0:8]\n",
    "y = dataset.iloc[:,8]\n",
    "x_train ,x_test , y_train, y_test = train_test_split(x,y,random_state=0,test_size=0.2)\n",
    "ms_y_train=y_train.to_numpy()\n",
    "ms_x_test=x_test.to_numpy()\n",
    "ms_x_train=x_train.to_numpy()\n",
    "ms_y_test=y_test.to_numpy()\n"
   ]
  },
  {
   "cell_type": "code",
   "execution_count": 98,
   "id": "09ed3c72",
   "metadata": {},
   "outputs": [],
   "source": [
    "import math\n",
    "def dist_ec(x,y):\n",
    "    dis= 0\n",
    "    for i in range(len(x)) :\n",
    "        if isinstance(x[i], str) :\n",
    "            if x[i]!=y[i]:\n",
    "                dis +=1\n",
    "        else:\n",
    "            dis += (y[i]-x[i])**2\n",
    "    return math.sqrt(dis)     \n",
    "def manhaten(x,y):\n",
    "    dis= 0\n",
    "    for i in range(len(x)) :\n",
    "        if isinstance(x[i], str) :\n",
    "            if x[i]!=y[i]:\n",
    "                dis +=1\n",
    "        else:\n",
    "            dis += abs(y[i]-x[i])\n",
    "    return dis"
   ]
  },
  {
   "cell_type": "code",
   "execution_count": 40,
   "id": "bd51a38e",
   "metadata": {},
   "outputs": [],
   "source": [
    "def knn_method(x_train,y_train , x_test ,k,method=dist_ec):\n",
    "    prediction=[]\n",
    "    for i in range (len(x_test)):\n",
    "        dis=[]\n",
    "        for j in range(len(x_train)) :\n",
    "            distance = method(x_test[i], x_train[j])\n",
    "            dis.append([distance,y_train[j]]) \n",
    "        sorted_dis =sorted(dis,key=lambda x : x[0])\n",
    "        #print(sorted_dis)\n",
    "        classes =dict()\n",
    "        for m in range (k) :\n",
    "            if(sorted_dis[m][0] not in classes):\n",
    "                classes[sorted_dis[m][1]]=1\n",
    "            else :\n",
    "                classes[sorted_dis[m][1]]+=1\n",
    "        sorted_class = sorted(classes)\n",
    "        \n",
    "        prediction.append(sorted_class[0])\n",
    "    return prediction"
   ]
  },
  {
   "cell_type": "code",
   "execution_count": 99,
   "id": "ba5e1464",
   "metadata": {},
   "outputs": [],
   "source": [
    "def dif_matrix(y_test,y_predict):\n",
    "    mat = [[0,0],[0,0]]\n",
    "    for i in range(len(y_test)):\n",
    "        mat[y_test[i]][y_predict[i]]+=1\n",
    "    return mat"
   ]
  },
  {
   "cell_type": "code",
   "execution_count": 101,
   "id": "ab514fec",
   "metadata": {},
   "outputs": [],
   "source": [
    "def accu(y_test,y_predict):\n",
    "    mat =dif_matrix(y_test,y_predict)\n",
    "    ac=(mat[0][0]+mat[1][1])/len(y_test)\n",
    "    return ac"
   ]
  },
  {
   "cell_type": "code",
   "execution_count": 81,
   "id": "cc700aa4",
   "metadata": {},
   "outputs": [],
   "source": [
    "\n",
    "\n",
    "y=knn_method(ms_x_train, ms_y_train, ms_x_test,11,dist_ec)"
   ]
  },
  {
   "cell_type": "code",
   "execution_count": 82,
   "id": "f6f78536",
   "metadata": {},
   "outputs": [
    {
     "name": "stdout",
     "output_type": "stream",
     "text": [
      "[0, 0, 0, 0, 0, 0, 0, 0, 0, 0, 0, 0, 0, 0, 0, 0, 0, 0, 0, 0, 0, 0, 0, 0, 0, 0, 0, 0, 0, 0, 0, 0, 0, 0, 0, 0, 0, 0, 0, 0, 0, 0, 0, 1, 0, 0, 0, 0, 0, 0, 0, 0, 0, 0, 0, 0, 0, 0, 0, 0, 0, 0, 0, 0, 0, 0, 0, 0, 0, 0, 0, 0, 0, 0, 0, 0, 0, 0, 0, 0, 0, 0, 0, 0, 0, 0, 0, 0, 0, 0, 0, 0, 0, 0, 0, 0, 0, 0, 0, 0, 0, 0, 0, 0, 0, 0, 0, 0, 0, 0, 0, 0, 0, 0, 0, 0, 0, 0, 0, 0, 0, 0, 0, 0, 0, 0, 0, 0, 0, 0, 0, 0, 0, 0, 0, 0, 0, 0, 0, 0, 0, 0, 0, 0, 0, 0, 0, 0, 0, 0, 0, 0, 0, 0]\n"
     ]
    }
   ],
   "source": [
    "print(y)\n"
   ]
  },
  {
   "cell_type": "code",
   "execution_count": 83,
   "id": "867d6e10",
   "metadata": {},
   "outputs": [
    {
     "name": "stdout",
     "output_type": "stream",
     "text": [
      "[1, 0, 0, 1, 0, 0, 1, 1, 0, 0, 1, 1, 0, 0, 0, 0, 1, 0, 0, 0, 1, 1, 0, 0, 0, 0, 0, 0, 0, 0, 0, 0, 0, 0, 0, 1, 1, 0, 0, 0, 0, 0, 0, 1, 1, 0, 0, 1, 1, 1, 0, 0, 1, 0, 0, 0, 0, 1, 1, 1, 1, 0, 0, 1, 1, 1, 1, 0, 0, 0, 0, 0, 0, 0, 1, 0, 0, 0, 0, 0, 0, 0, 0, 0, 0, 0, 1, 0, 1, 0, 0, 0, 0, 0, 0, 0, 1, 0, 1, 1, 0, 0, 0, 0, 0, 1, 0, 0, 0, 1, 0, 1, 1, 1, 1, 1, 0, 0, 0, 1, 0, 0, 0, 0, 0, 0, 0, 1, 0, 0, 0, 0, 0, 1, 0, 1, 0, 1, 1, 0, 0, 0, 0, 0, 1, 0, 0, 0, 0, 1, 0, 1, 0, 0]\n"
     ]
    }
   ],
   "source": [
    "ms= list(ms_y_test)\n",
    "print(ms)\n"
   ]
  },
  {
   "cell_type": "code",
   "execution_count": 84,
   "id": "4ac8e385",
   "metadata": {},
   "outputs": [
    {
     "name": "stdout",
     "output_type": "stream",
     "text": [
      "[[107, 0], [46, 1]]\n",
      "0.7012987012987013\n"
     ]
    }
   ],
   "source": [
    "print(dif_matrix(ms,y))\n",
    "print(accu(ms,y))"
   ]
  },
  {
   "cell_type": "markdown",
   "id": "ac7ece36",
   "metadata": {},
   "source": [
    "-------------------------------------------------------"
   ]
  },
  {
   "cell_type": "code",
   "execution_count": 90,
   "id": "f4fae9ea",
   "metadata": {},
   "outputs": [],
   "source": [
    "# methos manhaten ,dist_ec\n",
    "y=knn_method(ms_x_train, ms_y_train, ms_x_test,5,manhaten)"
   ]
  },
  {
   "cell_type": "code",
   "execution_count": 91,
   "id": "2d2f92d9",
   "metadata": {},
   "outputs": [
    {
     "name": "stdout",
     "output_type": "stream",
     "text": [
      "[[105, 2], [39, 8]]\n"
     ]
    }
   ],
   "source": [
    "ms= list(ms_y_test)\n",
    "print(dif_matrix(ms,y))\n"
   ]
  },
  {
   "cell_type": "code",
   "execution_count": 92,
   "id": "59970d5e",
   "metadata": {},
   "outputs": [
    {
     "name": "stdout",
     "output_type": "stream",
     "text": [
      "0.7337662337662337\n"
     ]
    }
   ],
   "source": [
    "print(accu(ms,y))"
   ]
  }
 ],
 "metadata": {
  "kernelspec": {
   "display_name": "Python 3 (ipykernel)",
   "language": "python",
   "name": "python3"
  },
  "language_info": {
   "codemirror_mode": {
    "name": "ipython",
    "version": 3
   },
   "file_extension": ".py",
   "mimetype": "text/x-python",
   "name": "python",
   "nbconvert_exporter": "python",
   "pygments_lexer": "ipython3",
   "version": "3.9.12"
  }
 },
 "nbformat": 4,
 "nbformat_minor": 5
}
